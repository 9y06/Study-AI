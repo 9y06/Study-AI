{
  "cells": [
    {
      "cell_type": "code",
      "execution_count": 1,
      "metadata": {
        "colab": {
          "base_uri": "https://localhost:8080/",
          "height": 947
        },
        "id": "XrTI02aSZipU",
        "outputId": "61c6d7fd-0465-4433-d0fd-776c934cc32d"
      },
      "outputs": [
        {
          "ename": "ModuleNotFoundError",
          "evalue": "No module named 'pandas'",
          "output_type": "error",
          "traceback": [
            "\u001b[0;31m---------------------------------------------------------------------------\u001b[0m",
            "\u001b[0;31mModuleNotFoundError\u001b[0m                       Traceback (most recent call last)",
            "Cell \u001b[0;32mIn[1], line 1\u001b[0m\n\u001b[0;32m----> 1\u001b[0m \u001b[38;5;28;01mimport\u001b[39;00m \u001b[38;5;21;01mpandas\u001b[39;00m \u001b[38;5;28;01mas\u001b[39;00m \u001b[38;5;21;01mpd\u001b[39;00m\n\u001b[1;32m      2\u001b[0m \u001b[38;5;28;01mimport\u001b[39;00m \u001b[38;5;21;01mmatplotlib\u001b[39;00m\u001b[38;5;21;01m.\u001b[39;00m\u001b[38;5;21;01mpyplot\u001b[39;00m \u001b[38;5;28;01mas\u001b[39;00m \u001b[38;5;21;01mplt\u001b[39;00m\n\u001b[1;32m      3\u001b[0m \u001b[38;5;28;01mimport\u001b[39;00m \u001b[38;5;21;01mnumpy\u001b[39;00m \u001b[38;5;28;01mas\u001b[39;00m \u001b[38;5;21;01mnp\u001b[39;00m\n",
            "\u001b[0;31mModuleNotFoundError\u001b[0m: No module named 'pandas'"
          ]
        }
      ],
      "source": [
        "import pandas as pd\n",
        "import matplotlib.pyplot as plt\n",
        "import numpy as np\n",
        "\n",
        "df = pd.read_csv('/content/02_Titanic_data.csv')\n",
        "df"
      ]
    },
    {
      "cell_type": "code",
      "execution_count": 4,
      "metadata": {
        "colab": {
          "base_uri": "https://localhost:8080/",
          "height": 1000
        },
        "id": "gAp5Y3hT4_6X",
        "outputId": "41e8a048-2fbb-41b8-8a29-729c9069dcc1"
      },
      "outputs": [
        {
          "ename": "ModuleNotFoundError",
          "evalue": "No module named 'pandas'",
          "output_type": "error",
          "traceback": [
            "\u001b[0;31m---------------------------------------------------------------------------\u001b[0m",
            "\u001b[0;31mModuleNotFoundError\u001b[0m                       Traceback (most recent call last)",
            "Cell \u001b[0;32mIn[4], line 1\u001b[0m\n\u001b[0;32m----> 1\u001b[0m \u001b[38;5;28;01mimport\u001b[39;00m \u001b[38;5;21;01mpandas\u001b[39;00m \u001b[38;5;28;01mas\u001b[39;00m \u001b[38;5;21;01mpd\u001b[39;00m\n\u001b[1;32m      2\u001b[0m \u001b[38;5;28;01mimport\u001b[39;00m \u001b[38;5;21;01mnumpy\u001b[39;00m \u001b[38;5;28;01mas\u001b[39;00m \u001b[38;5;21;01mnp\u001b[39;00m\n\u001b[1;32m      3\u001b[0m \u001b[38;5;28;01mimport\u001b[39;00m \u001b[38;5;21;01mmatplotlib\u001b[39;00m\u001b[38;5;21;01m.\u001b[39;00m\u001b[38;5;21;01mpyplot\u001b[39;00m \u001b[38;5;28;01mas\u001b[39;00m \u001b[38;5;21;01mplt\u001b[39;00m\n",
            "\u001b[0;31mModuleNotFoundError\u001b[0m: No module named 'pandas'"
          ]
        }
      ],
      "source": [
        "import pandas as pd\n",
        "import numpy as np\n",
        "import matplotlib.pyplot as plt\n",
        "\n",
        "df = pd.read_csv('/content/02_Titanic_data.csv', encoding='utf-8')\n",
        "\n",
        "# 총 승객 수\n",
        "total_passengers = len(df)\n",
        "\n",
        "# 객실별 승객 수\n",
        "passengers_per_class = df['Pclass'].value_counts()\n",
        "\n",
        "# Age와 Survived 열만 선택하고, NaN 값 제거\n",
        "df = df[['Age', 'Survived']].dropna()\n",
        "\n",
        "# 나이대 설정하여 AgeGroup 열 생성\n",
        "bins = np.arange(0, 81, 10)\n",
        "labels = [f'{i}-{i+9}' for i in bins[:-1]]\n",
        "df['AgeGroup'] = pd.cut(df['Age'], bins=bins, labels=labels, right=False)\n",
        "\n",
        "# 나이대별 생존율 계산\n",
        "age_group_survival = df.groupby('AgeGroup')['Survived'].mean() * 100  # 생존율을 퍼센트로 표시\n",
        "\n",
        "# 나이대별 생존율 시각화\n",
        "plt.figure(figsize=(10, 6))\n",
        "age_group_survival.plot(kind='bar', color='skyblue')\n",
        "plt.title('Survival Rate by Age Group (Bar Chart)')\n",
        "plt.xlabel('Age Group')\n",
        "plt.ylabel('Survival Rate (%)')\n",
        "plt.xticks(rotation=0)\n",
        "plt.grid(axis='y')\n",
        "plt.show()\n",
        "\n",
        "# 객실별 승객 수 시각화\n",
        "plt.figure(figsize=(10, 6))\n",
        "passengers_per_class.plot(kind='pie', autopct='%1.1f%%', startangle=90, colors=['lightcoral', 'lightblue', 'lightgreen'])\n",
        "plt.title('Number of Passengers by Class (Pie Chart)')\n",
        "plt.ylabel('')\n",
        "plt.axis('equal')\n",
        "plt.show()"
      ]
    },
    {
      "cell_type": "markdown",
      "metadata": {
        "id": "Baejg-1F9pyj"
      },
      "source": [
        "타이타닉 데이터 분석 요약\n",
        "1. 총 승객 수는 891명이다.\n",
        "\n",
        "2. 객실별 승객 수\n",
        "1등급 (Pclass = 1): 216명 (24.3%)\n",
        "2등급 (Pclass = 2): 184명 (20.7%)\n",
        "3등급 (Pclass = 3): 491명 (55.0%)\n",
        "\n",
        "3. 나이대별 생존율\n",
        "0-9세: 생존율 X%\n",
        "10-19세: 생존율 Y%\n",
        "20-29세: 생존율 Z%\n",
        "30-39세: 생존율 A%\n",
        "40-49세: 생존율 B%\n",
        "50-59세: 생존율 C%\n",
        "60-69세: 생존율 D%\n",
        "70-79세: 생존율 E%\n",
        "\n",
        "4. 시각화 결과\n",
        "  첫번째 나이대별 생존율: 나이대별 생존율을 나타낸 막대 차트에서 각 나이대의 생존 비율을 비교할 수 있습니다.\n",
        "  두번째 시각화 객실별 승객 수: 객실 등급에 따른 승객 수를 나타낸 파이 차트를 통해 각 객실 등급의 비율을 확인할 수 있습니다."
      ]
    }
  ],
  "metadata": {
    "accelerator": "GPU",
    "colab": {
      "gpuType": "T4",
      "provenance": []
    },
    "kernelspec": {
      "display_name": "Python 3",
      "name": "python3"
    },
    "language_info": {
      "codemirror_mode": {
        "name": "ipython",
        "version": 3
      },
      "file_extension": ".py",
      "mimetype": "text/x-python",
      "name": "python",
      "nbconvert_exporter": "python",
      "pygments_lexer": "ipython3",
      "version": "3.11.1"
    }
  },
  "nbformat": 4,
  "nbformat_minor": 0
}
